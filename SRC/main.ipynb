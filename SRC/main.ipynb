{
 "cells": [
  {
   "cell_type": "code",
   "execution_count": 1,
   "metadata": {},
   "outputs": [],
   "source": [
    "import pandas as pd\n",
    "import warnings\n",
    "warnings.filterwarnings('ignore')\n",
    "pd.set_option('display.max_columns', None)\n",
    "pd.set_option('display.max_rows', None)\n",
    "from repo_funciones import *"
   ]
  },
  {
   "cell_type": "code",
   "execution_count": 3,
   "metadata": {},
   "outputs": [
    {
     "name": "stdout",
     "output_type": "stream",
     "text": [
      "Collecting openpyxl\n",
      "  Downloading openpyxl-3.1.2-py2.py3-none-any.whl (249 kB)\n",
      "     -------------------------------------- 250.0/250.0 kB 3.1 MB/s eta 0:00:00\n",
      "Collecting et-xmlfile\n",
      "  Downloading et_xmlfile-1.1.0-py3-none-any.whl (4.7 kB)\n",
      "Installing collected packages: et-xmlfile, openpyxl\n",
      "Successfully installed et-xmlfile-1.1.0 openpyxl-3.1.2\n",
      "Note: you may need to restart the kernel to use updated packages.\n"
     ]
    },
    {
     "name": "stderr",
     "output_type": "stream",
     "text": [
      "\n",
      "[notice] A new release of pip available: 22.3.1 -> 23.1.2\n",
      "[notice] To update, run: python.exe -m pip install --upgrade pip\n"
     ]
    }
   ],
   "source": [
    "#%pip install openpyxl"
   ]
  },
  {
   "cell_type": "code",
   "execution_count": 18,
   "metadata": {},
   "outputs": [],
   "source": [
    "header_row=7"
   ]
  },
  {
   "cell_type": "code",
   "execution_count": 45,
   "metadata": {},
   "outputs": [],
   "source": [
    "censo=pd.read_excel('../DATA/censo_viv_CDMX.xlsx', sheet_name=10, skiprows=4, header=1) \n"
   ]
  },
  {
   "cell_type": "code",
   "execution_count": 46,
   "metadata": {},
   "outputs": [
    {
     "name": "stdout",
     "output_type": "stream",
     "text": [
      "<class 'pandas.core.frame.DataFrame'>\n",
      "RangeIndex: 593 entries, 0 to 592\n",
      "Data columns (total 12 columns):\n",
      " #   Column                                         Non-Null Count  Dtype \n",
      "---  ------                                         --------------  ----- \n",
      " 0   Entidad federativa                             589 non-null    object\n",
      " 1   Demarcación territorial                        588 non-null    object\n",
      " 2   Disponibilidad y ámbito de agua entubada       588 non-null    object\n",
      " 3   Fuente de abastecimiento u obtención de agua   588 non-null    object\n",
      " 4   Viviendas particulares habitadas               589 non-null    object\n",
      " 5   Unnamed: 5                                     590 non-null    object\n",
      " 6   Unnamed: 6                                     589 non-null    object\n",
      " 7   Unnamed: 7                                     589 non-null    object\n",
      " 8   Ocupantes de viviendas particulares habitadas  589 non-null    object\n",
      " 9   Unnamed: 9                                     590 non-null    object\n",
      " 10  Unnamed: 10                                    589 non-null    object\n",
      " 11  Unnamed: 11                                    589 non-null    object\n",
      "dtypes: object(12)\n",
      "memory usage: 55.7+ KB\n"
     ]
    }
   ],
   "source": [
    "censo.info()"
   ]
  },
  {
   "cell_type": "code",
   "execution_count": 48,
   "metadata": {},
   "outputs": [],
   "source": [
    "#censo.head(100)"
   ]
  },
  {
   "attachments": {},
   "cell_type": "markdown",
   "metadata": {},
   "source": [
    "## API Gobierno CDMX"
   ]
  },
  {
   "cell_type": "code",
   "execution_count": 89,
   "metadata": {},
   "outputs": [],
   "source": [
    "import requests\n",
    "\n",
    "url2 = 'https://datos.cdmx.gob.mx/api/3/action/datastore_search?resource_id=9c288e08-fa43-4a21-80e3-5d474cb0092b&limit=400000'\n",
    "\n",
    "params = {\n",
    "    'resource_id': '2263bf74-c0ed-4e7c-bb9c-73f0624ac1a9',\n",
    "    'limit': 80000,\n",
    "    \n",
    "    }\n",
    "\n",
    "response = requests.get(url2)\n",
    "data=response.json()"
   ]
  },
  {
   "cell_type": "code",
   "execution_count": 63,
   "metadata": {},
   "outputs": [
    {
     "data": {
      "text/plain": [
       "<Response [200]>"
      ]
     },
     "execution_count": 63,
     "metadata": {},
     "output_type": "execute_result"
    }
   ],
   "source": [
    "response"
   ]
  },
  {
   "cell_type": "code",
   "execution_count": 90,
   "metadata": {},
   "outputs": [
    {
     "data": {
      "text/plain": [
       "{'help': 'https://datos.cdmx.gob.mx/api/3/action/help_show?name=datastore_search',\n",
       " 'error': {'__type': 'Not Found Error',\n",
       "  'message': 'No encontrado: Resource \"9c288e08-fa43-4a21-80e3-5d474cb0092b\" was not found.'},\n",
       " 'success': False}"
      ]
     },
     "execution_count": 90,
     "metadata": {},
     "output_type": "execute_result"
    }
   ],
   "source": [
    "data"
   ]
  },
  {
   "cell_type": "code",
   "execution_count": 75,
   "metadata": {},
   "outputs": [],
   "source": [
    "#pd.DataFrame(data['result']['records'])"
   ]
  },
  {
   "cell_type": "code",
   "execution_count": 80,
   "metadata": {},
   "outputs": [],
   "source": [
    "\n",
    "import requests\n",
    "\n",
    "url2 = 'https://datos.cdmx.gob.mx/api/3/action/datastore_search'\n",
    "\n",
    "params2 = {\n",
    "    'resource_id': '9c288e08-fa43-4a21-80e3-5d474cb0092b',\n",
    "    'limit': 4000000,\n",
    "    \n",
    "    }\n",
    "\n",
    "captacion= requests.get(url2 + '', params2)"
   ]
  },
  {
   "cell_type": "code",
   "execution_count": 81,
   "metadata": {},
   "outputs": [],
   "source": [
    "data=captacion.json()"
   ]
  },
  {
   "cell_type": "code",
   "execution_count": 87,
   "metadata": {},
   "outputs": [
    {
     "data": {
      "text/plain": [
       "{'help': 'https://datos.cdmx.gob.mx/api/3/action/help_show?name=datastore_search',\n",
       " 'error': {'__type': 'Not Found Error',\n",
       "  'message': 'No encontrado: Resource \"9c288e08-fa43-4a21-80e3-5d474cb0092b\" was not found.'},\n",
       " 'success': False}"
      ]
     },
     "execution_count": 87,
     "metadata": {},
     "output_type": "execute_result"
    }
   ],
   "source": [
    "data"
   ]
  }
 ],
 "metadata": {
  "kernelspec": {
   "display_name": "Python 3",
   "language": "python",
   "name": "python3"
  },
  "language_info": {
   "codemirror_mode": {
    "name": "ipython",
    "version": 3
   },
   "file_extension": ".py",
   "mimetype": "text/x-python",
   "name": "python",
   "nbconvert_exporter": "python",
   "pygments_lexer": "ipython3",
   "version": "3.11.2"
  },
  "orig_nbformat": 4
 },
 "nbformat": 4,
 "nbformat_minor": 2
}
