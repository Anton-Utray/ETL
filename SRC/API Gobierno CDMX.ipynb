{
 "cells": [
  {
   "cell_type": "code",
   "execution_count": 24,
   "metadata": {},
   "outputs": [],
   "source": [
    "import pandas as pd\n",
    "import warnings\n",
    "warnings.filterwarnings('ignore')\n",
    "pd.set_option('display.max_columns', None)\n",
    "pd.set_option('display.max_rows', None)\n",
    "from repo_funciones import *"
   ]
  },
  {
   "attachments": {},
   "cell_type": "markdown",
   "metadata": {},
   "source": [
    "## API Gobierno CDMX"
   ]
  },
  {
   "cell_type": "code",
   "execution_count": 1,
   "metadata": {},
   "outputs": [],
   "source": [
    "import requests"
   ]
  },
  {
   "cell_type": "code",
   "execution_count": 87,
   "metadata": {},
   "outputs": [
    {
     "data": {
      "text/plain": [
       "{'help': 'https://datos.cdmx.gob.mx/api/3/action/help_show?name=datastore_search',\n",
       " 'error': {'__type': 'Not Found Error',\n",
       "  'message': 'No encontrado: Resource \"9c288e08-fa43-4a21-80e3-5d474cb0092b\" was not found.'},\n",
       " 'success': False}"
      ]
     },
     "execution_count": 87,
     "metadata": {},
     "output_type": "execute_result"
    }
   ],
   "source": [
    "data #Aquí estabamos intentando extraer info de la base de datos agregada, es decir, total de instalaciones desde el inicio de programa. \n",
    "#Sin embargo nos arroja error 404. \n",
    "\n",
    "# params2 = {\n",
    "#     'resource_id': '9c288e08-fa43-4a21-80e3-5d474cb0092b',\n",
    "#     'limit': 4000000,\n",
    "    \n",
    "#     }"
   ]
  },
  {
   "cell_type": "code",
   "execution_count": 2,
   "metadata": {},
   "outputs": [],
   "source": [
    "#URL datos especificos a instalaciones 2021 \n",
    "url = 'https://datos.cdmx.gob.mx/api/3/action/datastore_search?resource_id=c0fcfc93-3a18-4ae8-9435-dd404b2c100e&limit=20000'\n",
    "captacion= requests.get(url)"
   ]
  },
  {
   "cell_type": "code",
   "execution_count": 3,
   "metadata": {},
   "outputs": [],
   "source": [
    "data=captacion.json()"
   ]
  },
  {
   "cell_type": "code",
   "execution_count": 4,
   "metadata": {},
   "outputs": [
    {
     "data": {
      "text/plain": [
       "dict_keys(['help', 'error', 'success'])"
      ]
     },
     "execution_count": 4,
     "metadata": {},
     "output_type": "execute_result"
    }
   ],
   "source": [
    "data.keys()"
   ]
  },
  {
   "cell_type": "code",
   "execution_count": 6,
   "metadata": {},
   "outputs": [
    {
     "data": {
      "text/plain": [
       "{'help': 'https://datos.cdmx.gob.mx/api/3/action/help_show?name=datastore_search',\n",
       " 'error': {'__type': 'Not Found Error',\n",
       "  'message': 'No encontrado: Resource \"c0fcfc93-3a18-4ae8-9435-dd404b2c100e\" was not found.'},\n",
       " 'success': False}"
      ]
     },
     "execution_count": 6,
     "metadata": {},
     "output_type": "execute_result"
    }
   ],
   "source": [
    "data"
   ]
  },
  {
   "cell_type": "code",
   "execution_count": 7,
   "metadata": {},
   "outputs": [],
   "source": [
    "#segundo intento, metodología distinta\n",
    "\n",
    "url = 'https://datos.cdmx.gob.mx/api/3/action/datastore_search'\n",
    "param = {\n",
    "    'resource_id': 'c0fcfc93-3a18-4ae8-9435-dd404b2c100e',\n",
    "    'limit': 5}\n",
    "captacion=requests.get(url, params=param)"
   ]
  },
  {
   "cell_type": "code",
   "execution_count": 8,
   "metadata": {},
   "outputs": [],
   "source": [
    "data=captacion.json()"
   ]
  },
  {
   "cell_type": "code",
   "execution_count": 9,
   "metadata": {},
   "outputs": [
    {
     "data": {
      "text/plain": [
       "{'help': 'https://datos.cdmx.gob.mx/api/3/action/help_show?name=datastore_search',\n",
       " 'error': {'__type': 'Not Found Error',\n",
       "  'message': 'No encontrado: Resource \"c0fcfc93-3a18-4ae8-9435-dd404b2c100e\" was not found.'},\n",
       " 'success': False}"
      ]
     },
     "execution_count": 9,
     "metadata": {},
     "output_type": "execute_result"
    }
   ],
   "source": [
    "data"
   ]
  },
  {
   "cell_type": "code",
   "execution_count": 10,
   "metadata": {},
   "outputs": [
    {
     "data": {
      "text/plain": [
       "<Response [404]>"
      ]
     },
     "execution_count": 10,
     "metadata": {},
     "output_type": "execute_result"
    }
   ],
   "source": [
    "captacion #aquí vemos que no era un error de metodo/codigo, si no que ya no existe el vinculo para API de este data set "
   ]
  },
  {
   "cell_type": "code",
   "execution_count": null,
   "metadata": {},
   "outputs": [],
   "source": [
    "#pasamos a intentar con el ressource ID de 2020 (cuinciden con los datos de la tabla de acceso a agua)"
   ]
  },
  {
   "cell_type": "code",
   "execution_count": 13,
   "metadata": {},
   "outputs": [],
   "source": [
    "url = 'https://datos.cdmx.gob.mx/api/3/action/datastore_search'\n",
    "param = {\n",
    "    'resource_id': '23069b2d-26ad-4f47-a1cb-e6c6bbb03162',\n",
    "    'limit': 5}\n",
    "twenty=requests.get(url, params=param)"
   ]
  },
  {
   "cell_type": "code",
   "execution_count": 14,
   "metadata": {},
   "outputs": [
    {
     "data": {
      "text/plain": [
       "<Response [404]>"
      ]
     },
     "execution_count": 14,
     "metadata": {},
     "output_type": "execute_result"
    }
   ],
   "source": [
    "twenty #tampoco"
   ]
  },
  {
   "cell_type": "code",
   "execution_count": 15,
   "metadata": {},
   "outputs": [],
   "source": [
    "#Encontré al final de la pagina el data set de instalaciones en 2022, intentamos a ver que sale...\n",
    "\n",
    "url = 'https://datos.cdmx.gob.mx/api/3/action/datastore_search'\n",
    "param = {\n",
    "    'resource_id': '02b9121c-8e6e-4e26-b5aa-f73ceabedb6b',\n",
    "    'limit': 5}\n",
    "twenty=requests.get(url, params=param)"
   ]
  },
  {
   "cell_type": "code",
   "execution_count": 16,
   "metadata": {},
   "outputs": [
    {
     "data": {
      "text/plain": [
       "<Response [200]>"
      ]
     },
     "execution_count": 16,
     "metadata": {},
     "output_type": "execute_result"
    }
   ],
   "source": [
    "twenty #Success!!!"
   ]
  },
  {
   "cell_type": "code",
   "execution_count": 17,
   "metadata": {},
   "outputs": [],
   "source": [
    "data=twenty.json()"
   ]
  },
  {
   "cell_type": "code",
   "execution_count": 29,
   "metadata": {},
   "outputs": [],
   "source": [
    "#Data- ionspeccionamos que nos sacó. Tras ver que tiene concuerda con lo que necesitamos "
   ]
  },
  {
   "cell_type": "code",
   "execution_count": 20,
   "metadata": {},
   "outputs": [],
   "source": [
    "url = 'https://datos.cdmx.gob.mx/api/3/action/datastore_search'\n",
    "param = {\n",
    "    'resource_id': '02b9121c-8e6e-4e26-b5aa-f73ceabedb6b',\n",
    "    'limit': 400000} #por si acaso jala...\n",
    "twenty=requests.get(url, params=param)"
   ]
  },
  {
   "cell_type": "code",
   "execution_count": 21,
   "metadata": {},
   "outputs": [],
   "source": [
    "data=twenty.json()"
   ]
  },
  {
   "cell_type": "code",
   "execution_count": 22,
   "metadata": {},
   "outputs": [
    {
     "data": {
      "text/plain": [
       "16971"
      ]
     },
     "execution_count": 22,
     "metadata": {},
     "output_type": "execute_result"
    }
   ],
   "source": [
    "len(data['result']['records'])\n"
   ]
  },
  {
   "cell_type": "code",
   "execution_count": 33,
   "metadata": {},
   "outputs": [],
   "source": [
    "captacion= pd.DataFrame(data['result']['records'])"
   ]
  },
  {
   "cell_type": "code",
   "execution_count": 34,
   "metadata": {},
   "outputs": [
    {
     "data": {
      "text/html": [
       "<div>\n",
       "<style scoped>\n",
       "    .dataframe tbody tr th:only-of-type {\n",
       "        vertical-align: middle;\n",
       "    }\n",
       "\n",
       "    .dataframe tbody tr th {\n",
       "        vertical-align: top;\n",
       "    }\n",
       "\n",
       "    .dataframe thead th {\n",
       "        text-align: right;\n",
       "    }\n",
       "</style>\n",
       "<table border=\"1\" class=\"dataframe\">\n",
       "  <thead>\n",
       "    <tr style=\"text-align: right;\">\n",
       "      <th></th>\n",
       "      <th>_id</th>\n",
       "      <th>expediente</th>\n",
       "      <th>pueblo</th>\n",
       "      <th>scall_col</th>\n",
       "      <th>territorial</th>\n",
       "      <th>fecha_instalacion</th>\n",
       "      <th>capacidad</th>\n",
       "      <th>alcaldia</th>\n",
       "      <th>colonia_datos</th>\n",
       "      <th>latitud</th>\n",
       "      <th>longitud</th>\n",
       "    </tr>\n",
       "  </thead>\n",
       "  <tbody>\n",
       "    <tr>\n",
       "      <th>16966</th>\n",
       "      <td>16967</td>\n",
       "      <td>13759-VAMACR-MIA-22</td>\n",
       "      <td>SAN ANTONIO TECOMITL</td>\n",
       "      <td>BO. CRUZTITLA- ZE</td>\n",
       "      <td>NO APLICA</td>\n",
       "      <td>2022-11-30T00:00:00</td>\n",
       "      <td>2500</td>\n",
       "      <td>MILPA ALTA</td>\n",
       "      <td>SAN ANTONIO TECOMITL (PBLO)</td>\n",
       "      <td>19.216391</td>\n",
       "      <td>-99.003080</td>\n",
       "    </tr>\n",
       "    <tr>\n",
       "      <th>16967</th>\n",
       "      <td>16968</td>\n",
       "      <td>13767-CHHECR-MIA-22</td>\n",
       "      <td>SAN ANTONIO TECOMITL</td>\n",
       "      <td>SAN ANTONIO TECMITL - ZE</td>\n",
       "      <td>NO APLICA</td>\n",
       "      <td>2022-11-29T00:00:00</td>\n",
       "      <td>2500</td>\n",
       "      <td>MILPA ALTA</td>\n",
       "      <td>SAN ANTONIO TECOMITL (PBLO)</td>\n",
       "      <td>19.219246</td>\n",
       "      <td>-99.003118</td>\n",
       "    </tr>\n",
       "    <tr>\n",
       "      <th>16968</th>\n",
       "      <td>16969</td>\n",
       "      <td>3475-ROSOSA-TLC-22</td>\n",
       "      <td>PUEBLO SAN FRANCISCO TLALTENCO</td>\n",
       "      <td>SELENE</td>\n",
       "      <td>NO APLICA</td>\n",
       "      <td>2022-11-30T00:00:00</td>\n",
       "      <td>2500</td>\n",
       "      <td>TLAHUAC</td>\n",
       "      <td>SELENE 2da SECC</td>\n",
       "      <td>19.285439</td>\n",
       "      <td>-99.003507</td>\n",
       "    </tr>\n",
       "    <tr>\n",
       "      <th>16969</th>\n",
       "      <td>16970</td>\n",
       "      <td>3505-MEHEOC-TLC-22</td>\n",
       "      <td>PUEBLO SAN FRANCISCO TLALTENCO</td>\n",
       "      <td>SELENE</td>\n",
       "      <td>NO APLICA</td>\n",
       "      <td>2022-11-30T00:00:00</td>\n",
       "      <td>2500</td>\n",
       "      <td>TLAHUAC</td>\n",
       "      <td>SELENE 2da SECC</td>\n",
       "      <td>19.284513</td>\n",
       "      <td>-99.002000</td>\n",
       "    </tr>\n",
       "    <tr>\n",
       "      <th>16970</th>\n",
       "      <td>16971</td>\n",
       "      <td>3514-POLEMA-TLC-22</td>\n",
       "      <td>PUEBLO SAN FRANCISCO TLALTENCO</td>\n",
       "      <td>SELENE</td>\n",
       "      <td>NO APLICA</td>\n",
       "      <td>2022-11-30T00:00:00</td>\n",
       "      <td>2500</td>\n",
       "      <td>TLAHUAC</td>\n",
       "      <td>SELENE 2da SECC</td>\n",
       "      <td>19.284513</td>\n",
       "      <td>-99.002000</td>\n",
       "    </tr>\n",
       "  </tbody>\n",
       "</table>\n",
       "</div>"
      ],
      "text/plain": [
       "         _id           expediente                          pueblo   \n",
       "16966  16967  13759-VAMACR-MIA-22            SAN ANTONIO TECOMITL  \\\n",
       "16967  16968  13767-CHHECR-MIA-22            SAN ANTONIO TECOMITL   \n",
       "16968  16969   3475-ROSOSA-TLC-22  PUEBLO SAN FRANCISCO TLALTENCO   \n",
       "16969  16970   3505-MEHEOC-TLC-22  PUEBLO SAN FRANCISCO TLALTENCO   \n",
       "16970  16971   3514-POLEMA-TLC-22  PUEBLO SAN FRANCISCO TLALTENCO   \n",
       "\n",
       "                      scall_col territorial    fecha_instalacion  capacidad   \n",
       "16966         BO. CRUZTITLA- ZE   NO APLICA  2022-11-30T00:00:00       2500  \\\n",
       "16967  SAN ANTONIO TECMITL - ZE   NO APLICA  2022-11-29T00:00:00       2500   \n",
       "16968                    SELENE   NO APLICA  2022-11-30T00:00:00       2500   \n",
       "16969                    SELENE   NO APLICA  2022-11-30T00:00:00       2500   \n",
       "16970                    SELENE   NO APLICA  2022-11-30T00:00:00       2500   \n",
       "\n",
       "         alcaldia                colonia_datos    latitud   longitud  \n",
       "16966  MILPA ALTA  SAN ANTONIO TECOMITL (PBLO)  19.216391 -99.003080  \n",
       "16967  MILPA ALTA  SAN ANTONIO TECOMITL (PBLO)  19.219246 -99.003118  \n",
       "16968     TLAHUAC              SELENE 2da SECC  19.285439 -99.003507  \n",
       "16969     TLAHUAC              SELENE 2da SECC  19.284513 -99.002000  \n",
       "16970     TLAHUAC              SELENE 2da SECC  19.284513 -99.002000  "
      ]
     },
     "execution_count": 34,
     "metadata": {},
     "output_type": "execute_result"
    }
   ],
   "source": [
    "captacion.tail()"
   ]
  },
  {
   "cell_type": "code",
   "execution_count": 37,
   "metadata": {},
   "outputs": [],
   "source": [
    "captacion.to_csv('../DATA/captacion_agua_lluvias_2022.csv', index= False)"
   ]
  }
 ],
 "metadata": {
  "kernelspec": {
   "display_name": "Python 3",
   "language": "python",
   "name": "python3"
  },
  "language_info": {
   "codemirror_mode": {
    "name": "ipython",
    "version": 3
   },
   "file_extension": ".py",
   "mimetype": "text/x-python",
   "name": "python",
   "nbconvert_exporter": "python",
   "pygments_lexer": "ipython3",
   "version": "3.11.2"
  },
  "orig_nbformat": 4
 },
 "nbformat": 4,
 "nbformat_minor": 2
}
